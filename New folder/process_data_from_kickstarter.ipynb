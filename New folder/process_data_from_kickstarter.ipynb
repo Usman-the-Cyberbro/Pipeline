{
 "cells": [
  {
   "cell_type": "markdown",
   "metadata": {
    "_cell_guid": "5cd5061f-ae30-4837-a53b-690ffd5c5830",
    "_uuid": "9d82bf13584b8e682962fbb96131f2447d741679"
   },
   "source": [
    "# kickstarter.com data pipeline"
   ]
  },
  {
   "cell_type": "code",
   "execution_count": 1,
   "metadata": {
    "_cell_guid": "135a7804-b5f5-40aa-8657-4a15774e3666",
    "_uuid": "835cbe0834b935fb0fd40c75b9c39454836f4d5f"
   },
   "outputs": [],
   "source": [
    "import pandas as pd\n",
    "import numpy as np\n",
    "\n",
    "from scipy import stats\n",
    "from mlxtend.preprocessing import minmax_scaling\n",
    "\n",
    "import warnings\n",
    "warnings.filterwarnings('ignore')\n",
    "import seaborn as sns\n",
    "import matplotlib.pyplot as plt\n",
    "import missingno as msno\n",
    "\n",
    "from sqlalchemy import create_engine\n",
    "\n",
    "np.random.seed(0)\n",
    "\n",
    "%run functions.ipynb\n",
    "\n"
   ]
  },
  {
   "cell_type": "markdown",
   "metadata": {},
   "source": [
    "## ------------------ PART 1: Ingestion and exploratory analysis -----------------"
   ]
  },
  {
   "cell_type": "code",
   "execution_count": 1,
   "metadata": {},
   "outputs": [],
   "source": [
    "BASE_PATH = r'C:\\Users\\Ummar Awan/Desktop/MDDD' #Absolute path set\n",
    "filename = 'ks-projects-201612.csv'"
   ]
  },
  {
   "cell_type": "code",
   "execution_count": 3,
   "metadata": {},
   "outputs": [
    {
     "name": "stdout",
     "output_type": "stream",
     "text": [
      "all cols casted to lowercase and whitespaces stripped ✓\n"
     ]
    },
    {
     "data": {
      "text/html": [
       "<div>\n",
       "<style scoped>\n",
       "    .dataframe tbody tr th:only-of-type {\n",
       "        vertical-align: middle;\n",
       "    }\n",
       "\n",
       "    .dataframe tbody tr th {\n",
       "        vertical-align: top;\n",
       "    }\n",
       "\n",
       "    .dataframe thead th {\n",
       "        text-align: right;\n",
       "    }\n",
       "</style>\n",
       "<table border=\"1\" class=\"dataframe\">\n",
       "  <thead>\n",
       "    <tr style=\"text-align: right;\">\n",
       "      <th></th>\n",
       "      <th>id</th>\n",
       "      <th>name</th>\n",
       "      <th>category</th>\n",
       "      <th>main_category</th>\n",
       "      <th>currency</th>\n",
       "      <th>deadline</th>\n",
       "      <th>usd_goal</th>\n",
       "      <th>launched</th>\n",
       "      <th>pledged</th>\n",
       "      <th>state</th>\n",
       "      <th>backers</th>\n",
       "      <th>country</th>\n",
       "      <th>usd_pledged</th>\n",
       "      <th>unnamed: 13</th>\n",
       "      <th>unnamed: 14</th>\n",
       "      <th>unnamed: 15</th>\n",
       "      <th>unnamed: 16</th>\n",
       "    </tr>\n",
       "  </thead>\n",
       "  <tbody>\n",
       "    <tr>\n",
       "      <th>0</th>\n",
       "      <td>1000002330</td>\n",
       "      <td>The Songs of Adelaide &amp; Abullah</td>\n",
       "      <td>Poetry</td>\n",
       "      <td>Publishing</td>\n",
       "      <td>GBP</td>\n",
       "      <td>2015-10-09 11:36:00</td>\n",
       "      <td>1000</td>\n",
       "      <td>2015-08-11 12:12:28</td>\n",
       "      <td>0</td>\n",
       "      <td>failed</td>\n",
       "      <td>0</td>\n",
       "      <td>GB</td>\n",
       "      <td>0</td>\n",
       "      <td>NaN</td>\n",
       "      <td>NaN</td>\n",
       "      <td>NaN</td>\n",
       "      <td>NaN</td>\n",
       "    </tr>\n",
       "    <tr>\n",
       "      <th>1</th>\n",
       "      <td>1000004038</td>\n",
       "      <td>Where is Hank?</td>\n",
       "      <td>Narrative Film</td>\n",
       "      <td>Film &amp; Video</td>\n",
       "      <td>USD</td>\n",
       "      <td>2013-02-26 00:20:50</td>\n",
       "      <td>45000</td>\n",
       "      <td>2013-01-12 00:20:50</td>\n",
       "      <td>220</td>\n",
       "      <td>failed</td>\n",
       "      <td>3</td>\n",
       "      <td>US</td>\n",
       "      <td>220</td>\n",
       "      <td>NaN</td>\n",
       "      <td>NaN</td>\n",
       "      <td>NaN</td>\n",
       "      <td>NaN</td>\n",
       "    </tr>\n",
       "    <tr>\n",
       "      <th>2</th>\n",
       "      <td>1000007540</td>\n",
       "      <td>ToshiCapital Rekordz Needs Help to Complete Album</td>\n",
       "      <td>Music</td>\n",
       "      <td>Music</td>\n",
       "      <td>USD</td>\n",
       "      <td>2012-04-16 04:24:11</td>\n",
       "      <td>5000</td>\n",
       "      <td>2012-03-17 03:24:11</td>\n",
       "      <td>1</td>\n",
       "      <td>failed</td>\n",
       "      <td>1</td>\n",
       "      <td>US</td>\n",
       "      <td>1</td>\n",
       "      <td>NaN</td>\n",
       "      <td>NaN</td>\n",
       "      <td>NaN</td>\n",
       "      <td>NaN</td>\n",
       "    </tr>\n",
       "  </tbody>\n",
       "</table>\n",
       "</div>"
      ],
      "text/plain": [
       "           id                                               name  \\\n",
       "0  1000002330                    The Songs of Adelaide & Abullah   \n",
       "1  1000004038                                     Where is Hank?   \n",
       "2  1000007540  ToshiCapital Rekordz Needs Help to Complete Album   \n",
       "\n",
       "         category main_category currency             deadline usd_goal  \\\n",
       "0          Poetry    Publishing      GBP  2015-10-09 11:36:00     1000   \n",
       "1  Narrative Film  Film & Video      USD  2013-02-26 00:20:50    45000   \n",
       "2           Music         Music      USD  2012-04-16 04:24:11     5000   \n",
       "\n",
       "              launched pledged   state backers country usd_pledged  \\\n",
       "0  2015-08-11 12:12:28       0  failed       0      GB           0   \n",
       "1  2013-01-12 00:20:50     220  failed       3      US         220   \n",
       "2  2012-03-17 03:24:11       1  failed       1      US           1   \n",
       "\n",
       "  unnamed: 13 unnamed: 14 unnamed: 15  unnamed: 16  \n",
       "0         NaN         NaN         NaN          NaN  \n",
       "1         NaN         NaN         NaN          NaN  \n",
       "2         NaN         NaN         NaN          NaN  "
      ]
     },
     "execution_count": 3,
     "metadata": {},
     "output_type": "execute_result"
    }
   ],
   "source": [
    "\n",
    "PATH_TO_DATA = f'{BASE_PATH}/{filename}'\n",
    "# Default encoding is None, but I have observed that it doesn't recognize some characters. Choosing ANSI solves the problem\n",
    "df_base = pd.read_csv(PATH_TO_DATA, low_memory=False, encoding='ANSI')\n",
    "# Clean the headers\n",
    "df_cleaned_headers = clean_df_headers(df_base)\n",
    "df_cleaned_headers = df_cleaned_headers.rename( columns= {'usd pledged': 'usd_pledged'} )\n",
    "df_cleaned_headers = df_cleaned_headers.rename( columns= {'goal': 'usd_goal'} )\n",
    "df_cleaned_headers.head(3)"
   ]
  },
  {
   "cell_type": "code",
   "execution_count": 4,
   "metadata": {},
   "outputs": [],
   "source": [
    "# The column type is \"object\", so I have to cast to numeric.\n",
    "# Some entries are invalid (example: '2016-02-02 00:56:46' instead of a numeric value)\n",
    "# The option 'coerce' cast any weird entry to NaN\n",
    "df_cleaned_headers['usd_goal'] = pd.to_numeric(df_cleaned_headers['usd_goal'], errors='coerce')"
   ]
  },
  {
   "cell_type": "code",
   "execution_count": 5,
   "metadata": {},
   "outputs": [
    {
     "data": {
      "text/plain": [
       "<AxesSubplot:>"
      ]
     },
     "execution_count": 5,
     "metadata": {},
     "output_type": "execute_result"
    },
    {
     "data": {
      "image/png": "[encoded data removed]",
      "text/plain": [
       "<Figure size 1800x720 with 2 Axes>"
      ]
     },
     "metadata": {
      "needs_background": "light"
     },
     "output_type": "display_data"
    }
   ],
   "source": [
    "# About the quality of this dataset:\n",
    "# 1. Contains 4 almost empty cols.\n",
    "# 2. usd_pledged and usd_goal contain some missing values (NaN)\n",
    "msno.matrix(df_cleaned_headers)"
   ]
  },
  {
   "cell_type": "code",
   "execution_count": 6,
   "metadata": {},
   "outputs": [],
   "source": [
    "# Keep only a subset of the dataset (discard empty columns). \n",
    "list_required_cols = ['id',\n",
    "                      'name',\n",
    "                      'category',\n",
    "                      'main_category',\n",
    "                      'currency',\n",
    "                      'deadline',\n",
    "                      'usd_goal',\n",
    "                      'launched',\n",
    "                      'pledged',\n",
    "                      'state',\n",
    "                      'backers',\n",
    "                      'country',\n",
    "                      'usd_pledged',\n",
    "                      \n",
    "]\n",
    "\n",
    "df_clean = df_cleaned_headers[list_required_cols]"
   ]
  },
  {
   "cell_type": "code",
   "execution_count": 7,
   "metadata": {},
   "outputs": [
    {
     "data": {
      "text/plain": [
       "id                  0\n",
       "name                4\n",
       "category            5\n",
       "main_category       0\n",
       "currency            0\n",
       "deadline            0\n",
       "usd_goal          632\n",
       "launched            0\n",
       "pledged             0\n",
       "state               0\n",
       "backers             0\n",
       "country             0\n",
       "usd_pledged      3790\n",
       "dtype: int64"
      ]
     },
     "execution_count": 7,
     "metadata": {},
     "output_type": "execute_result"
    }
   ],
   "source": [
    "# The amount of NaN is negligible (at most 4431 rows out of 300k roughly ~1%), so can be safely dropped without loosing too much info\n",
    "df_clean.isnull().sum()"
   ]
  },
  {
   "cell_type": "code",
   "execution_count": 8,
   "metadata": {},
   "outputs": [
    {
     "name": "stdout",
     "output_type": "stream",
     "text": [
      "Before dropna: (323750, 13)\n",
      "After dropna: (319324, 13)\n"
     ]
    }
   ],
   "source": [
    "print(f'Before dropna: {df_clean.shape}')\n",
    "df_clean = df_clean.dropna()\n",
    "print(f'After dropna: {df_clean.shape}')"
   ]
  },
  {
   "cell_type": "markdown",
   "metadata": {},
   "source": [
    "## ------------------------------ PART 2: Transformations ----------------------------------"
   ]
  },
  {
   "cell_type": "code",
   "execution_count": 9,
   "metadata": {},
   "outputs": [],
   "source": [
    "# This data presents the typical L-shape; lots of records have a value of zero, very few have large values. \n",
    "# Scaling just changes the range of values, it doesnt change the L-shape.\n",
    "# However, it is still very important for prediction. \n",
    "# Example: We have features F1 and F2, to predict target Y. \n",
    "# F1 varies between 0 and 9999. \n",
    "# F2 varies between 0 and 5. \n",
    "# In this situation, F1 provides a much stronger signal, and thus Y varies much more with F1 than F2. \n",
    "# To avoid this \"over-signal\", both F1 and F2 should be scaled to same range (for example. 0-1).\n",
    "\n",
    "# So, this is exactly what I do here: scale both 'usd_goal' and 'usd_pledged' to be in range (0-1)\n",
    "\n",
    "\n",
    "df_clean['usd_goal_scaled'] = minmax_scaling(np.array(df_clean['usd_goal']), columns = [0])\n",
    "df_clean['usd_pledged_scaled'] = minmax_scaling(np.array(df_clean['usd_pledged']), columns = [0])"
   ]
  },
  {
   "cell_type": "code",
   "execution_count": 10,
   "metadata": {},
   "outputs": [
    {
     "data": {
      "image/png": "[encoded data removed]",
      "text/plain": [
       "<Figure size 1440x144 with 2 Axes>"
      ]
     },
     "metadata": {
      "needs_background": "light"
     },
     "output_type": "display_data"
    },
    {
     "data": {
      "image/png": "[encoded data removed]",
      "text/plain": [
       "<Figure size 1440x144 with 2 Axes>"
      ]
     },
     "metadata": {
      "needs_background": "light"
     },
     "output_type": "display_data"
    }
   ],
   "source": [
    "plot_comparison(df_clean['usd_goal'],df_clean['usd_goal_scaled'])\n",
    "plot_comparison(df_clean['usd_pledged'],df_clean['usd_pledged_scaled'])"
   ]
  },
  {
   "cell_type": "code",
   "execution_count": 11,
   "metadata": {},
   "outputs": [],
   "source": [
    "# Additionally, some ML models require that the features follow a normal distribution (or \"close enough\")\n",
    "# Therefore, the features following a L-shape need to be normalized with for example a yeojohnson transformation.\n",
    "# After normalizing the scaled data, the scaled columns can just be discarded \n",
    "\n",
    "df_clean['usd_goal_normalized'] = stats.yeojohnson(df_clean['usd_goal_scaled'])[0]\n",
    "#df_clean = df_clean.drop('usd_goal_scaled', axis = 'columns')\n",
    "\n",
    "df_clean['usd_pledged_normalized'] = stats.yeojohnson(df_clean['usd_pledged_scaled'])[0]\n",
    "#df_clean = df_clean.drop('usd_pledged_scaled', axis = 'columns')\n"
   ]
  },
  {
   "cell_type": "code",
   "execution_count": 12,
   "metadata": {},
   "outputs": [
    {
     "data": {
      "image/png": "[encoded data removed]",
      "text/plain": [
       "<Figure size 1440x144 with 2 Axes>"
      ]
     },
     "metadata": {
      "needs_background": "light"
     },
     "output_type": "display_data"
    },
    {
     "data": {
      "image/png": "[encoded data removed]",
      "text/plain": [
       "<Figure size 1440x144 with 2 Axes>"
      ]
     },
     "metadata": {
      "needs_background": "light"
     },
     "output_type": "display_data"
    }
   ],
   "source": [
    "plot_comparison(df_clean['usd_goal_scaled'],df_clean['usd_goal_normalized'])\n",
    "plot_comparison(df_clean['usd_pledged_scaled'],df_clean['usd_pledged_normalized'])"
   ]
  },
  {
   "cell_type": "code",
   "execution_count": 13,
   "metadata": {},
   "outputs": [
    {
     "data": {
      "text/html": [
       "<div>\n",
       "<style scoped>\n",
       "    .dataframe tbody tr th:only-of-type {\n",
       "        vertical-align: middle;\n",
       "    }\n",
       "\n",
       "    .dataframe tbody tr th {\n",
       "        vertical-align: top;\n",
       "    }\n",
       "\n",
       "    .dataframe thead th {\n",
       "        text-align: right;\n",
       "    }\n",
       "</style>\n",
       "<table border=\"1\" class=\"dataframe\">\n",
       "  <thead>\n",
       "    <tr style=\"text-align: right;\">\n",
       "      <th></th>\n",
       "      <th>id</th>\n",
       "      <th>name</th>\n",
       "      <th>category</th>\n",
       "      <th>main_category</th>\n",
       "      <th>currency</th>\n",
       "      <th>deadline</th>\n",
       "      <th>usd_goal</th>\n",
       "      <th>launched</th>\n",
       "      <th>pledged</th>\n",
       "      <th>state</th>\n",
       "      <th>backers</th>\n",
       "      <th>country</th>\n",
       "      <th>usd_pledged</th>\n",
       "      <th>usd_goal_normalized</th>\n",
       "      <th>usd_pledged_normalized</th>\n",
       "    </tr>\n",
       "  </thead>\n",
       "  <tbody>\n",
       "    <tr>\n",
       "      <th>0</th>\n",
       "      <td>1000002330</td>\n",
       "      <td>The Songs of Adelaide &amp; Abullah</td>\n",
       "      <td>Poetry</td>\n",
       "      <td>Publishing</td>\n",
       "      <td>GBP</td>\n",
       "      <td>2015-10-09 11:36:00</td>\n",
       "      <td>1000.0</td>\n",
       "      <td>2015-08-11 12:12:28</td>\n",
       "      <td>0</td>\n",
       "      <td>failed</td>\n",
       "      <td>0</td>\n",
       "      <td>GB</td>\n",
       "      <td>0</td>\n",
       "      <td>0.000010</td>\n",
       "      <td>-0.000000e+00</td>\n",
       "    </tr>\n",
       "    <tr>\n",
       "      <th>1</th>\n",
       "      <td>1000004038</td>\n",
       "      <td>Where is Hank?</td>\n",
       "      <td>Narrative Film</td>\n",
       "      <td>Film &amp; Video</td>\n",
       "      <td>USD</td>\n",
       "      <td>2013-02-26 00:20:50</td>\n",
       "      <td>45000.0</td>\n",
       "      <td>2013-01-12 00:20:50</td>\n",
       "      <td>220</td>\n",
       "      <td>failed</td>\n",
       "      <td>3</td>\n",
       "      <td>US</td>\n",
       "      <td>220</td>\n",
       "      <td>0.000327</td>\n",
       "      <td>1.070926e-05</td>\n",
       "    </tr>\n",
       "    <tr>\n",
       "      <th>2</th>\n",
       "      <td>1000007540</td>\n",
       "      <td>ToshiCapital Rekordz Needs Help to Complete Album</td>\n",
       "      <td>Music</td>\n",
       "      <td>Music</td>\n",
       "      <td>USD</td>\n",
       "      <td>2012-04-16 04:24:11</td>\n",
       "      <td>5000.0</td>\n",
       "      <td>2012-03-17 03:24:11</td>\n",
       "      <td>1</td>\n",
       "      <td>failed</td>\n",
       "      <td>1</td>\n",
       "      <td>US</td>\n",
       "      <td>1</td>\n",
       "      <td>0.000048</td>\n",
       "      <td>4.916443e-08</td>\n",
       "    </tr>\n",
       "    <tr>\n",
       "      <th>3</th>\n",
       "      <td>1000011046</td>\n",
       "      <td>Community Film Project: The Art of Neighborhoo...</td>\n",
       "      <td>Film &amp; Video</td>\n",
       "      <td>Film &amp; Video</td>\n",
       "      <td>USD</td>\n",
       "      <td>2015-08-29 01:00:00</td>\n",
       "      <td>19500.0</td>\n",
       "      <td>2015-07-04 08:35:03</td>\n",
       "      <td>1283</td>\n",
       "      <td>canceled</td>\n",
       "      <td>14</td>\n",
       "      <td>US</td>\n",
       "      <td>1283</td>\n",
       "      <td>0.000169</td>\n",
       "      <td>5.954261e-05</td>\n",
       "    </tr>\n",
       "    <tr>\n",
       "      <th>4</th>\n",
       "      <td>1000014025</td>\n",
       "      <td>Monarch Espresso Bar</td>\n",
       "      <td>Restaurants</td>\n",
       "      <td>Food</td>\n",
       "      <td>USD</td>\n",
       "      <td>2016-04-01 13:38:27</td>\n",
       "      <td>50000.0</td>\n",
       "      <td>2016-02-26 13:38:27</td>\n",
       "      <td>52375</td>\n",
       "      <td>successful</td>\n",
       "      <td>224</td>\n",
       "      <td>US</td>\n",
       "      <td>52375</td>\n",
       "      <td>0.000351</td>\n",
       "      <td>5.366874e-04</td>\n",
       "    </tr>\n",
       "  </tbody>\n",
       "</table>\n",
       "</div>"
      ],
      "text/plain": [
       "           id                                               name  \\\n",
       "0  1000002330                    The Songs of Adelaide & Abullah   \n",
       "1  1000004038                                     Where is Hank?   \n",
       "2  1000007540  ToshiCapital Rekordz Needs Help to Complete Album   \n",
       "3  1000011046  Community Film Project: The Art of Neighborhoo...   \n",
       "4  1000014025                               Monarch Espresso Bar   \n",
       "\n",
       "         category main_category currency             deadline  usd_goal  \\\n",
       "0          Poetry    Publishing      GBP  2015-10-09 11:36:00    1000.0   \n",
       "1  Narrative Film  Film & Video      USD  2013-02-26 00:20:50   45000.0   \n",
       "2           Music         Music      USD  2012-04-16 04:24:11    5000.0   \n",
       "3    Film & Video  Film & Video      USD  2015-08-29 01:00:00   19500.0   \n",
       "4     Restaurants          Food      USD  2016-04-01 13:38:27   50000.0   \n",
       "\n",
       "              launched pledged       state backers country usd_pledged  \\\n",
       "0  2015-08-11 12:12:28       0      failed       0      GB           0   \n",
       "1  2013-01-12 00:20:50     220      failed       3      US         220   \n",
       "2  2012-03-17 03:24:11       1      failed       1      US           1   \n",
       "3  2015-07-04 08:35:03    1283    canceled      14      US        1283   \n",
       "4  2016-02-26 13:38:27   52375  successful     224      US       52375   \n",
       "\n",
       "   usd_goal_normalized  usd_pledged_normalized  \n",
       "0             0.000010           -0.000000e+00  \n",
       "1             0.000327            1.070926e-05  \n",
       "2             0.000048            4.916443e-08  \n",
       "3             0.000169            5.954261e-05  \n",
       "4             0.000351            5.366874e-04  "
      ]
     },
     "execution_count": 13,
     "metadata": {},
     "output_type": "execute_result"
    }
   ],
   "source": [
    "# Drop scaled columns\n",
    "df_clean = df_clean.drop('usd_goal_scaled', axis = 'columns')\n",
    "df_clean = df_clean.drop('usd_pledged_scaled', axis = 'columns')\n",
    "df_clean.head(5)"
   ]
  },
  {
   "cell_type": "markdown",
   "metadata": {},
   "source": [
    "# -------------------------- PART 3: Loading into the relational database ------------------------------\n",
    "\n",
    "After working with the data in the DataFrame you may want to load into a relational database. This not only persists the data but also makes it possible to run SQL queries on it. \n",
    "In this project, the dataframe is exported to a SQLite database using SQLAlchemy."
   ]
  },
  {
   "cell_type": "code",
   "execution_count": 14,
   "metadata": {},
   "outputs": [],
   "source": [
    "# Create and connect a database\n",
    "engine = create_engine('sqlite:///kickstarter_projects.db', echo=False, encoding='utf-8')"
   ]
  },
  {
   "cell_type": "code",
   "execution_count": 15,
   "metadata": {},
   "outputs": [],
   "source": [
    "# Load the dataframe into a table called projects inside the database created, if a table with that name exists it will be replaced\n",
    "df_clean.to_sql('projects', con=engine, if_exists='replace')"
   ]
  },
  {
   "cell_type": "code",
   "execution_count": 16,
   "metadata": {},
   "outputs": [
    {
     "data": {
      "text/plain": [
       "[(0, 1000002330, 'The Songs of Adelaide & Abullah', 'Poetry', 'Publishing', 'GBP', '2015-10-09 11:36:00', 1000.0, '2015-08-11 12:12:28', '0', 'failed', '0', 'GB', '0', 9.924730648187567e-06, 0.0),\n",
       " (1, 1000004038, 'Where is Hank?', 'Narrative Film', 'Film & Video', 'USD', '2013-02-26 00:20:50', 45000.0, '2013-01-12 00:20:50', '220', 'failed', '3', 'US', '220', 0.00032652430972032807, 1.0709264037458632e-05),\n",
       " (2, 1000007540, 'ToshiCapital Rekordz Needs Help to Complete Album', 'Music', 'Music', 'USD', '2012-04-16 04:24:11', 5000.0, '2012-03-17 03:24:11', '1', 'failed', '1', 'US', '1', 4.8157862544724006e-05, 4.916442518737049e-08),\n",
       " (3, 1000011046, 'Community Film Project: The Art of Neighborhood Filmmaking', 'Film & Video', 'Film & Video', 'USD', '2015-08-29 01:00:00', 19500.0, '2015-07-04 08:35:03', '1283', 'canceled', '14', 'US', '1283', 0.00016889882192732306, 5.954261164648956e-05),\n",
       " (4, 1000014025, 'Monarch Espresso Bar', 'Restaurants', 'Food', 'USD', '2016-04-01 13:38:27', 50000.0, '2016-02-26 13:38:27', '52375', 'successful', '224', 'US', '52375', 0.0003509272712895696, 0.0005366874039141491)]"
      ]
     },
     "execution_count": 16,
     "metadata": {},
     "output_type": "execute_result"
    }
   ],
   "source": [
    "# Then you can run SQL queries on it\n",
    "engine.execute(\"SELECT * FROM projects LIMIT 5\").fetchall()"
   ]
  },
  {
   "cell_type": "code",
   "execution_count": null,
   "metadata": {},
   "outputs": [],
   "source": []
  },
  {
   "cell_type": "code",
   "execution_count": null,
   "metadata": {},
   "outputs": [],
   "source": []
  }
 ],
 "metadata": {
  "kernelspec": {
   "display_name": "Python 3",
   "language": "python",
   "name": "python3"
  },
  "language_info": {
   "codemirror_mode": {
    "name": "ipython",
    "version": 3
   },
   "file_extension": ".py",
   "mimetype": "text/x-python",
   "name": "python",
   "nbconvert_exporter": "python",
   "pygments_lexer": "ipython3",
   "version": "3.9.1"
  }
 },
 "nbformat": 4,
 "nbformat_minor": 4
}
