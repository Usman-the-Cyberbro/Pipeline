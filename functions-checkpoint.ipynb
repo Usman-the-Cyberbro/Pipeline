{
 "cells": [
  {
   "cell_type": "code",
   "execution_count": null,
   "metadata": {},
   "outputs": [],
   "source": [
    "def clean_df_headers(df):\n",
    "    for col_ in df.columns:\n",
    "        col_cleaned = col_.lower().strip()\n",
    "        df = df.rename(columns={col_: col_cleaned})\n",
    "    print('all cols casted to lowercase and whitespaces stripped ✓')    \n",
    "    return df"
   ]
  },
  {
   "cell_type": "code",
   "execution_count": null,
   "metadata": {},
   "outputs": [],
   "source": [
    "def normalize_with_box_cox_and_plot_comparison(dataset):\n",
    "\n",
    "    normalized_data = stats.boxcox(dataset)[0]\n",
    "    plot_comparison(dataset, normalized_data)\n",
    "    "
   ]
  },
  {
   "cell_type": "code",
   "execution_count": null,
   "metadata": {},
   "outputs": [],
   "source": [
    "def plot_comparison(dataset1, dataset2):\n",
    "    \n",
    "    fig, ax=plt.subplots(1,2)\n",
    "    \n",
    "    PLOT_SIZE_IN_INCHES = 20, 2\n",
    "    fig.set_size_inches(PLOT_SIZE_IN_INCHES)\n",
    "    sns.distplot(dataset1, ax=ax[0])\n",
    "    ax[0].set_title(\"Original Data\")\n",
    "    sns.distplot(dataset2, ax=ax[1])\n",
    "    ax[1].set_title(\"Transformed data\")"
   ]
  }
 ],
 "metadata": {
  "kernelspec": {
   "display_name": "Python 3",
   "language": "python",
   "name": "python3"
  },
  "language_info": {
   "codemirror_mode": {
    "name": "ipython",
    "version": 3
   },
   "file_extension": ".py",
   "mimetype": "text/x-python",
   "name": "python",
   "nbconvert_exporter": "python",
   "pygments_lexer": "ipython3",
   "version": "3.9.1"
  }
 },
 "nbformat": 4,
 "nbformat_minor": 4
}
